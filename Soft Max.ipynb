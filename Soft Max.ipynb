{
 "cells": [
  {
   "cell_type": "markdown",
   "metadata": {
    "ExecuteTime": {
     "end_time": "2020-04-24T07:42:48.717611Z",
     "start_time": "2020-04-24T07:42:48.676611Z"
    }
   },
   "source": [
    "![jai ho](softmax_basic.png \"softmax\" )"
   ]
  },
  {
   "cell_type": "code",
   "execution_count": 8,
   "metadata": {
    "ExecuteTime": {
     "end_time": "2020-04-24T08:57:10.047719Z",
     "start_time": "2020-04-24T08:57:10.043721Z"
    }
   },
   "outputs": [],
   "source": [
    "import numpy as np"
   ]
  },
  {
   "cell_type": "code",
   "execution_count": 12,
   "metadata": {
    "ExecuteTime": {
     "end_time": "2020-04-24T09:02:29.459549Z",
     "start_time": "2020-04-24T09:02:29.453767Z"
    }
   },
   "outputs": [],
   "source": [
    "def softmax(X):\n",
    "    'input is a list '\n",
    "    'returns the softmax normalized list'\n",
    "    normalized = np.exp(X) / np.sum(np.exp(X))\n",
    "    \n",
    "    return normalized"
   ]
  },
  {
   "cell_type": "code",
   "execution_count": 13,
   "metadata": {
    "ExecuteTime": {
     "end_time": "2020-04-24T09:02:29.708984Z",
     "start_time": "2020-04-24T09:02:29.703946Z"
    }
   },
   "outputs": [],
   "source": [
    "X = [0,1,-1,0.1,0.001,-0.001,400]"
   ]
  },
  {
   "cell_type": "code",
   "execution_count": 17,
   "metadata": {
    "ExecuteTime": {
     "end_time": "2020-04-24T09:07:27.364400Z",
     "start_time": "2020-04-24T09:07:27.358396Z"
    }
   },
   "outputs": [
    {
     "data": {
      "text/plain": [
       "array([1.91516960e-174, 5.20597071e-174, 7.04551521e-175, 2.11658974e-174,\n",
       "       1.91708572e-174, 1.91325538e-174, 1.00000000e+000])"
      ]
     },
     "execution_count": 17,
     "metadata": {},
     "output_type": "execute_result"
    }
   ],
   "source": [
    "softmax(X)"
   ]
  },
  {
   "cell_type": "code",
   "execution_count": 15,
   "metadata": {
    "ExecuteTime": {
     "end_time": "2020-04-24T09:03:40.117693Z",
     "start_time": "2020-04-24T09:03:40.111690Z"
    }
   },
   "outputs": [
    {
     "data": {
      "text/plain": [
       "array([1.00000000e+000, 2.71828183e+000, 3.67879441e-001, 1.10517092e+000,\n",
       "       1.00100050e+000, 9.99000500e-001, 5.22146969e+173])"
      ]
     },
     "execution_count": 15,
     "metadata": {},
     "output_type": "execute_result"
    }
   ],
   "source": [
    "np.exp(X)"
   ]
  },
  {
   "cell_type": "markdown",
   "metadata": {},
   "source": [
    "# advantage\n",
    "Softmax in its standard form doesn't set max probability to 1 and rest to 0. No decent algorithm should ever produce 1 or 0 probability because in case of a mistake the log error goes to infinity. \n",
    "\n",
    "# disadvantage\n"
   ]
  }
 ],
 "metadata": {
  "kernelspec": {
   "display_name": "Python 3",
   "language": "python",
   "name": "python3"
  },
  "language_info": {
   "codemirror_mode": {
    "name": "ipython",
    "version": 3
   },
   "file_extension": ".py",
   "mimetype": "text/x-python",
   "name": "python",
   "nbconvert_exporter": "python",
   "pygments_lexer": "ipython3",
   "version": "3.7.1"
  },
  "toc": {
   "base_numbering": 1,
   "nav_menu": {
    "height": "12px",
    "width": "160px"
   },
   "number_sections": true,
   "sideBar": true,
   "skip_h1_title": false,
   "title_cell": "Table of Contents",
   "title_sidebar": "Contents",
   "toc_cell": false,
   "toc_position": {},
   "toc_section_display": true,
   "toc_window_display": false
  },
  "varInspector": {
   "cols": {
    "lenName": 16,
    "lenType": 16,
    "lenVar": 40
   },
   "kernels_config": {
    "python": {
     "delete_cmd_postfix": "",
     "delete_cmd_prefix": "del ",
     "library": "var_list.py",
     "varRefreshCmd": "print(var_dic_list())"
    },
    "r": {
     "delete_cmd_postfix": ") ",
     "delete_cmd_prefix": "rm(",
     "library": "var_list.r",
     "varRefreshCmd": "cat(var_dic_list()) "
    }
   },
   "types_to_exclude": [
    "module",
    "function",
    "builtin_function_or_method",
    "instance",
    "_Feature"
   ],
   "window_display": false
  }
 },
 "nbformat": 4,
 "nbformat_minor": 4
}
